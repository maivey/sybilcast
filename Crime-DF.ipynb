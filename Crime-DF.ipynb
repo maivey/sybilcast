{
 "cells": [
  {
   "cell_type": "code",
   "execution_count": 56,
   "metadata": {},
   "outputs": [],
   "source": [
    "import pandas as pd\n",
    "from sodapy import Socrata\n",
    "import requests\n",
    "import pymongo\n",
    "import pprint\n",
    "import json\n",
    "import datetime\n",
    "from pandas.io.json import json_normalize"
   ]
  },
  {
   "cell_type": "code",
   "execution_count": 57,
   "metadata": {},
   "outputs": [
    {
     "name": "stderr",
     "output_type": "stream",
     "text": [
      "WARNING:root:Requests made without an app_token will be subject to strict throttling limits.\n"
     ]
    }
   ],
   "source": [
    "# Unauthenticated client only works with public data sets. Note 'None'\n",
    "# in place of application token, and no username or password:\n",
    "client = Socrata(\"data.lacity.org\", None)"
   ]
  },
  {
   "cell_type": "code",
   "execution_count": 58,
   "metadata": {},
   "outputs": [],
   "source": [
    "# Example authenticated client (needed for non-public datasets):\n",
    "client = Socrata(\"data.lacity.org\",\n",
    "                 \"GvIj0aUYYnBp2YRAZ2OHttpL6\",\n",
    "                 username=\"jackantonyan@gmail.com\",\n",
    "                 password=\"Ja142536$\")\n"
   ]
  },
  {
   "cell_type": "code",
   "execution_count": 59,
   "metadata": {},
   "outputs": [],
   "source": [
    "# First 2000 results, returned as JSON from API / converted to Python list of\n",
    "# dictionaries by sodapy.\n",
    "results = client.get(\"63jg-8b9z\", limit=2)"
   ]
  },
  {
   "cell_type": "code",
   "execution_count": 60,
   "metadata": {},
   "outputs": [],
   "source": [
    "# Initialize PyMongo to work with MongoDBs\n",
    "conn = 'mongodb://localhost:27017'\n",
    "client = pymongo.MongoClient(conn)"
   ]
  },
  {
   "cell_type": "code",
   "execution_count": 61,
   "metadata": {},
   "outputs": [],
   "source": [
    "# Define database and collection\n",
    "db = client.Crime\n",
    "collection = db.Crime_La"
   ]
  },
  {
   "cell_type": "code",
   "execution_count": 62,
   "metadata": {},
   "outputs": [],
   "source": [
    "# Convert to pandas DataFrame\n",
    "results_df = pd.DataFrame.from_records(results)"
   ]
  },
  {
   "cell_type": "code",
   "execution_count": 63,
   "metadata": {},
   "outputs": [
    {
     "data": {
      "text/html": [
       "<div>\n",
       "<style scoped>\n",
       "    .dataframe tbody tr th:only-of-type {\n",
       "        vertical-align: middle;\n",
       "    }\n",
       "\n",
       "    .dataframe tbody tr th {\n",
       "        vertical-align: top;\n",
       "    }\n",
       "\n",
       "    .dataframe thead th {\n",
       "        text-align: right;\n",
       "    }\n",
       "</style>\n",
       "<table border=\"1\" class=\"dataframe\">\n",
       "  <thead>\n",
       "    <tr style=\"text-align: right;\">\n",
       "      <th></th>\n",
       "      <th>dr_no</th>\n",
       "      <th>date_rptd</th>\n",
       "      <th>date_occ</th>\n",
       "      <th>time_occ</th>\n",
       "      <th>area</th>\n",
       "      <th>area_name</th>\n",
       "      <th>rpt_dist_no</th>\n",
       "      <th>part_1_2</th>\n",
       "      <th>crm_cd</th>\n",
       "      <th>crm_cd_desc</th>\n",
       "      <th>...</th>\n",
       "      <th>vict_descent</th>\n",
       "      <th>premis_cd</th>\n",
       "      <th>premis_desc</th>\n",
       "      <th>status</th>\n",
       "      <th>status_desc</th>\n",
       "      <th>crm_cd_1</th>\n",
       "      <th>location</th>\n",
       "      <th>lat</th>\n",
       "      <th>lon</th>\n",
       "      <th>cross_street</th>\n",
       "    </tr>\n",
       "  </thead>\n",
       "  <tbody>\n",
       "    <tr>\n",
       "      <th>0</th>\n",
       "      <td>001307355</td>\n",
       "      <td>2010-02-20T00:00:00.000</td>\n",
       "      <td>2010-02-20T00:00:00.000</td>\n",
       "      <td>1350</td>\n",
       "      <td>13</td>\n",
       "      <td>Newton</td>\n",
       "      <td>1385</td>\n",
       "      <td>2</td>\n",
       "      <td>900</td>\n",
       "      <td>VIOLATION OF COURT ORDER</td>\n",
       "      <td>...</td>\n",
       "      <td>H</td>\n",
       "      <td>501</td>\n",
       "      <td>SINGLE FAMILY DWELLING</td>\n",
       "      <td>AA</td>\n",
       "      <td>Adult Arrest</td>\n",
       "      <td>900</td>\n",
       "      <td>300 E  GAGE                         AV</td>\n",
       "      <td>33.9825</td>\n",
       "      <td>-118.2695</td>\n",
       "      <td>NaN</td>\n",
       "    </tr>\n",
       "    <tr>\n",
       "      <th>1</th>\n",
       "      <td>011401303</td>\n",
       "      <td>2010-09-13T00:00:00.000</td>\n",
       "      <td>2010-09-12T00:00:00.000</td>\n",
       "      <td>0045</td>\n",
       "      <td>14</td>\n",
       "      <td>Pacific</td>\n",
       "      <td>1485</td>\n",
       "      <td>2</td>\n",
       "      <td>740</td>\n",
       "      <td>VANDALISM - FELONY ($400 &amp; OVER, ALL CHURCH VA...</td>\n",
       "      <td>...</td>\n",
       "      <td>W</td>\n",
       "      <td>101</td>\n",
       "      <td>STREET</td>\n",
       "      <td>IC</td>\n",
       "      <td>Invest Cont</td>\n",
       "      <td>740</td>\n",
       "      <td>SEPULVEDA                    BL</td>\n",
       "      <td>33.9599</td>\n",
       "      <td>-118.3962</td>\n",
       "      <td>MANCHESTER                   AV</td>\n",
       "    </tr>\n",
       "  </tbody>\n",
       "</table>\n",
       "<p>2 rows × 23 columns</p>\n",
       "</div>"
      ],
      "text/plain": [
       "       dr_no                date_rptd                 date_occ time_occ area  \\\n",
       "0  001307355  2010-02-20T00:00:00.000  2010-02-20T00:00:00.000     1350   13   \n",
       "1  011401303  2010-09-13T00:00:00.000  2010-09-12T00:00:00.000     0045   14   \n",
       "\n",
       "  area_name rpt_dist_no part_1_2 crm_cd  \\\n",
       "0    Newton        1385        2    900   \n",
       "1   Pacific        1485        2    740   \n",
       "\n",
       "                                         crm_cd_desc  ... vict_descent  \\\n",
       "0                           VIOLATION OF COURT ORDER  ...            H   \n",
       "1  VANDALISM - FELONY ($400 & OVER, ALL CHURCH VA...  ...            W   \n",
       "\n",
       "  premis_cd             premis_desc status   status_desc crm_cd_1  \\\n",
       "0       501  SINGLE FAMILY DWELLING     AA  Adult Arrest      900   \n",
       "1       101                  STREET     IC   Invest Cont      740   \n",
       "\n",
       "                                 location      lat        lon  \\\n",
       "0  300 E  GAGE                         AV  33.9825  -118.2695   \n",
       "1         SEPULVEDA                    BL  33.9599  -118.3962   \n",
       "\n",
       "                      cross_street  \n",
       "0                              NaN  \n",
       "1  MANCHESTER                   AV  \n",
       "\n",
       "[2 rows x 23 columns]"
      ]
     },
     "execution_count": 63,
     "metadata": {},
     "output_type": "execute_result"
    }
   ],
   "source": [
    "results_df.head()"
   ]
  },
  {
   "cell_type": "code",
   "execution_count": 64,
   "metadata": {},
   "outputs": [
    {
     "name": "stdout",
     "output_type": "stream",
     "text": [
      "<class 'pandas.core.frame.DataFrame'>\n",
      "RangeIndex: 2 entries, 0 to 1\n",
      "Data columns (total 23 columns):\n",
      " #   Column        Non-Null Count  Dtype         \n",
      "---  ------        --------------  -----         \n",
      " 0   dr_no         2 non-null      object        \n",
      " 1   date_rptd     2 non-null      object        \n",
      " 2   date_occ      2 non-null      datetime64[ns]\n",
      " 3   time_occ      2 non-null      object        \n",
      " 4   area          2 non-null      object        \n",
      " 5   area_name     2 non-null      object        \n",
      " 6   rpt_dist_no   2 non-null      object        \n",
      " 7   part_1_2      2 non-null      object        \n",
      " 8   crm_cd        2 non-null      object        \n",
      " 9   crm_cd_desc   2 non-null      object        \n",
      " 10  mocodes       2 non-null      object        \n",
      " 11  vict_age      2 non-null      object        \n",
      " 12  vict_sex      2 non-null      object        \n",
      " 13  vict_descent  2 non-null      object        \n",
      " 14  premis_cd     2 non-null      object        \n",
      " 15  premis_desc   2 non-null      object        \n",
      " 16  status        2 non-null      object        \n",
      " 17  status_desc   2 non-null      object        \n",
      " 18  crm_cd_1      2 non-null      object        \n",
      " 19  location      2 non-null      object        \n",
      " 20  lat           2 non-null      object        \n",
      " 21  lon           2 non-null      object        \n",
      " 22  cross_street  1 non-null      object        \n",
      "dtypes: datetime64[ns](1), object(22)\n",
      "memory usage: 496.0+ bytes\n"
     ]
    }
   ],
   "source": [
    "# converting lat and lat into numeric and date occured into date time\n",
    "results_df['date_occ'] = pd.to_datetime(results_df['date_occ'])\n",
    "# results_df['area_name'] = results_df['area_name'].astype('str')\n",
    "# results_df['crm_cd']= pd.to_numeric(results_df['crm_cd'])\n",
    "# results_df['time_occ']= pd.to_datetime(results_df['time_occ'])\n",
    "# results_df['lat']= pd.to_numeric(results_df['lat'])\n",
    "# results_df['lon']= pd.to_numeric(results_df['lon'])\n",
    "results_df.info()"
   ]
  },
  {
   "cell_type": "code",
   "execution_count": 65,
   "metadata": {},
   "outputs": [],
   "source": [
    "# results_df['time_occ'] = results_df['time_occ'].dt.strftime('%h:%m')"
   ]
  },
  {
   "cell_type": "code",
   "execution_count": 66,
   "metadata": {},
   "outputs": [],
   "source": [
    "# idx = pd.to_datetime(results_df['date_occ'])\n",
    "# results_df = results_df.set_index(results_df['date_occ'])"
   ]
  },
  {
   "cell_type": "code",
   "execution_count": 86,
   "metadata": {},
   "outputs": [
    {
     "data": {
      "text/html": [
       "<div>\n",
       "<style scoped>\n",
       "    .dataframe tbody tr th:only-of-type {\n",
       "        vertical-align: middle;\n",
       "    }\n",
       "\n",
       "    .dataframe tbody tr th {\n",
       "        vertical-align: top;\n",
       "    }\n",
       "\n",
       "    .dataframe thead th {\n",
       "        text-align: right;\n",
       "    }\n",
       "</style>\n",
       "<table border=\"1\" class=\"dataframe\">\n",
       "  <thead>\n",
       "    <tr style=\"text-align: right;\">\n",
       "      <th></th>\n",
       "      <th>date_occ</th>\n",
       "      <th>time_occ</th>\n",
       "      <th>crm_cd</th>\n",
       "      <th>crm_cd_desc</th>\n",
       "      <th>area_name</th>\n",
       "      <th>lat</th>\n",
       "      <th>lon</th>\n",
       "    </tr>\n",
       "  </thead>\n",
       "  <tbody>\n",
       "    <tr>\n",
       "      <th>0</th>\n",
       "      <td>2010-02-20</td>\n",
       "      <td>1350</td>\n",
       "      <td>900</td>\n",
       "      <td>VIOLATION OF COURT ORDER</td>\n",
       "      <td>Newton</td>\n",
       "      <td>33.9825</td>\n",
       "      <td>-118.2695</td>\n",
       "    </tr>\n",
       "    <tr>\n",
       "      <th>1</th>\n",
       "      <td>2010-09-12</td>\n",
       "      <td>0045</td>\n",
       "      <td>740</td>\n",
       "      <td>VANDALISM - FELONY ($400 &amp; OVER, ALL CHURCH VA...</td>\n",
       "      <td>Pacific</td>\n",
       "      <td>33.9599</td>\n",
       "      <td>-118.3962</td>\n",
       "    </tr>\n",
       "  </tbody>\n",
       "</table>\n",
       "</div>"
      ],
      "text/plain": [
       "    date_occ time_occ crm_cd  \\\n",
       "0 2010-02-20     1350    900   \n",
       "1 2010-09-12     0045    740   \n",
       "\n",
       "                                         crm_cd_desc area_name      lat  \\\n",
       "0                           VIOLATION OF COURT ORDER    Newton  33.9825   \n",
       "1  VANDALISM - FELONY ($400 & OVER, ALL CHURCH VA...   Pacific  33.9599   \n",
       "\n",
       "         lon  \n",
       "0  -118.2695  \n",
       "1  -118.3962  "
      ]
     },
     "execution_count": 86,
     "metadata": {},
     "output_type": "execute_result"
    }
   ],
   "source": [
    "# New data frame with revised columns\n",
    "new_results_df=results_df[['date_occ','time_occ','crm_cd','crm_cd_desc','area_name', 'lat', 'lon',]]\n",
    "new_results_df.head()"
   ]
  },
  {
   "cell_type": "code",
   "execution_count": 87,
   "metadata": {},
   "outputs": [
    {
     "name": "stdout",
     "output_type": "stream",
     "text": [
      "<class 'pandas.core.frame.DataFrame'>\n",
      "RangeIndex: 2 entries, 0 to 1\n",
      "Data columns (total 7 columns):\n",
      " #   Column       Non-Null Count  Dtype         \n",
      "---  ------       --------------  -----         \n",
      " 0   date_occ     2 non-null      datetime64[ns]\n",
      " 1   time_occ     2 non-null      object        \n",
      " 2   crm_cd       2 non-null      object        \n",
      " 3   crm_cd_desc  2 non-null      object        \n",
      " 4   area_name    2 non-null      object        \n",
      " 5   lat          2 non-null      object        \n",
      " 6   lon          2 non-null      object        \n",
      "dtypes: datetime64[ns](1), object(6)\n",
      "memory usage: 240.0+ bytes\n"
     ]
    }
   ],
   "source": [
    "new_results_df.info()"
   ]
  },
  {
   "cell_type": "code",
   "execution_count": 95,
   "metadata": {},
   "outputs": [
    {
     "name": "stderr",
     "output_type": "stream",
     "text": [
      "/anaconda3/lib/python3.6/site-packages/ipykernel_launcher.py:1: SettingWithCopyWarning: \n",
      "A value is trying to be set on a copy of a slice from a DataFrame.\n",
      "Try using .loc[row_indexer,col_indexer] = value instead\n",
      "\n",
      "See the caveats in the documentation: https://pandas.pydata.org/pandas-docs/stable/user_guide/indexing.html#returning-a-view-versus-a-copy\n",
      "  \"\"\"Entry point for launching an IPython kernel.\n"
     ]
    }
   ],
   "source": [
    "new_results_df['date_occ'] = new_results_df['date_occ'].astype(str)"
   ]
  },
  {
   "cell_type": "code",
   "execution_count": 96,
   "metadata": {},
   "outputs": [],
   "source": [
    "df_date = new_results_df.set_index(\"date_occ\")"
   ]
  },
  {
   "cell_type": "code",
   "execution_count": 97,
   "metadata": {},
   "outputs": [
    {
     "data": {
      "text/html": [
       "<div>\n",
       "<style scoped>\n",
       "    .dataframe tbody tr th:only-of-type {\n",
       "        vertical-align: middle;\n",
       "    }\n",
       "\n",
       "    .dataframe tbody tr th {\n",
       "        vertical-align: top;\n",
       "    }\n",
       "\n",
       "    .dataframe thead th {\n",
       "        text-align: right;\n",
       "    }\n",
       "</style>\n",
       "<table border=\"1\" class=\"dataframe\">\n",
       "  <thead>\n",
       "    <tr style=\"text-align: right;\">\n",
       "      <th></th>\n",
       "      <th>time_occ</th>\n",
       "      <th>crm_cd</th>\n",
       "      <th>crm_cd_desc</th>\n",
       "      <th>area_name</th>\n",
       "      <th>lat</th>\n",
       "      <th>lon</th>\n",
       "    </tr>\n",
       "    <tr>\n",
       "      <th>date_occ</th>\n",
       "      <th></th>\n",
       "      <th></th>\n",
       "      <th></th>\n",
       "      <th></th>\n",
       "      <th></th>\n",
       "      <th></th>\n",
       "    </tr>\n",
       "  </thead>\n",
       "  <tbody>\n",
       "    <tr>\n",
       "      <th>2010-02-20</th>\n",
       "      <td>1350</td>\n",
       "      <td>900</td>\n",
       "      <td>VIOLATION OF COURT ORDER</td>\n",
       "      <td>Newton</td>\n",
       "      <td>33.9825</td>\n",
       "      <td>-118.2695</td>\n",
       "    </tr>\n",
       "    <tr>\n",
       "      <th>2010-09-12</th>\n",
       "      <td>0045</td>\n",
       "      <td>740</td>\n",
       "      <td>VANDALISM - FELONY ($400 &amp; OVER, ALL CHURCH VA...</td>\n",
       "      <td>Pacific</td>\n",
       "      <td>33.9599</td>\n",
       "      <td>-118.3962</td>\n",
       "    </tr>\n",
       "  </tbody>\n",
       "</table>\n",
       "</div>"
      ],
      "text/plain": [
       "           time_occ crm_cd                                        crm_cd_desc  \\\n",
       "date_occ                                                                        \n",
       "2010-02-20     1350    900                           VIOLATION OF COURT ORDER   \n",
       "2010-09-12     0045    740  VANDALISM - FELONY ($400 & OVER, ALL CHURCH VA...   \n",
       "\n",
       "           area_name      lat        lon  \n",
       "date_occ                                  \n",
       "2010-02-20    Newton  33.9825  -118.2695  \n",
       "2010-09-12   Pacific  33.9599  -118.3962  "
      ]
     },
     "execution_count": 97,
     "metadata": {},
     "output_type": "execute_result"
    }
   ],
   "source": [
    "df_date.head()"
   ]
  },
  {
   "cell_type": "code",
   "execution_count": 98,
   "metadata": {},
   "outputs": [
    {
     "name": "stdout",
     "output_type": "stream",
     "text": [
      "date_occ\n"
     ]
    }
   ],
   "source": [
    "print (df_date.index.name)"
   ]
  },
  {
   "cell_type": "code",
   "execution_count": 101,
   "metadata": {},
   "outputs": [],
   "source": [
    "df_final = df_date.loc[['2010-02-20','2010-09-12']]"
   ]
  },
  {
   "cell_type": "code",
   "execution_count": 15,
   "metadata": {},
   "outputs": [],
   "source": [
    "# # Initialize PyMongo to work with MongoDBs\n",
    "# conn = 'mongodb://localhost:27017'\n",
    "# client = pymongo.MongoClient(conn)"
   ]
  },
  {
   "cell_type": "code",
   "execution_count": 16,
   "metadata": {},
   "outputs": [],
   "source": [
    "# # Define database and collection\n",
    "# db = client.Crime\n",
    "# collection = db.Crime_La"
   ]
  },
  {
   "cell_type": "code",
   "execution_count": 17,
   "metadata": {},
   "outputs": [
    {
     "name": "stdout",
     "output_type": "stream",
     "text": [
      "dict_values([{'index': 0, 'date_occ': Timestamp('2010-02-20 00:00:00'), 'time_occ': '1350', 'crm_cd': '900', 'crm_cd_desc': 'VIOLATION OF COURT ORDER', 'area_name': 'Newton', 'lat': '33.9825', 'lon': '-118.2695'}, {'index': 1, 'date_occ': Timestamp('2010-09-12 00:00:00'), 'time_occ': '0045', 'crm_cd': '740', 'crm_cd_desc': 'VANDALISM - FELONY ($400 & OVER, ALL CHURCH VANDALISMS)', 'area_name': 'Pacific', 'lat': '33.9599', 'lon': '-118.3962'}])\n"
     ]
    }
   ],
   "source": [
    "k = new_results_df.reset_index().T.to_dict().values()\n",
    "print(k)"
   ]
  },
  {
   "cell_type": "code",
   "execution_count": 18,
   "metadata": {},
   "outputs": [
    {
     "name": "stdout",
     "output_type": "stream",
     "text": [
      "{   'area_name': 'Newton',\n",
      "    'crm_cd': '900',\n",
      "    'crm_cd_desc': 'VIOLATION OF COURT ORDER',\n",
      "    'date_occ': Timestamp('2010-02-20 00:00:00'),\n",
      "    'index': 0,\n",
      "    'lat': '33.9825',\n",
      "    'lon': '-118.2695',\n",
      "    'time_occ': '1350'}\n",
      "{   'area_name': 'Pacific',\n",
      "    'crm_cd': '740',\n",
      "    'crm_cd_desc': 'VANDALISM - FELONY ($400 & OVER, ALL CHURCH VANDALISMS)',\n",
      "    'date_occ': Timestamp('2010-09-12 00:00:00'),\n",
      "    'index': 1,\n",
      "    'lat': '33.9599',\n",
      "    'lon': '-118.3962',\n",
      "    'time_occ': '0045'}\n"
     ]
    }
   ],
   "source": [
    "for i in k:\n",
    "#     print(i)\n",
    "    pp= pprint.PrettyPrinter(indent=4)\n",
    "    pp.pprint(i)"
   ]
  },
  {
   "cell_type": "code",
   "execution_count": 26,
   "metadata": {},
   "outputs": [],
   "source": [
    "# pd.DataFrame(results)"
   ]
  },
  {
   "cell_type": "code",
   "execution_count": 27,
   "metadata": {},
   "outputs": [],
   "source": [
    "# df_json = new_results_df.to_json(orient='records', date_format ='iso')\n",
    "# pp.pprint(df_json)\n"
   ]
  },
  {
   "cell_type": "code",
   "execution_count": 21,
   "metadata": {},
   "outputs": [
    {
     "name": "stderr",
     "output_type": "stream",
     "text": [
      "/anaconda3/lib/python3.6/site-packages/ipykernel_launcher.py:1: DeprecationWarning: count is deprecated. Use estimated_document_count or count_documents instead. Please note that $where must be replaced by $expr, $near must be replaced by $geoWithin with $center, and $nearSphere must be replaced by $geoWithin with $centerSphere\n",
      "  \"\"\"Entry point for launching an IPython kernel.\n"
     ]
    }
   ],
   "source": [
    "collection_count = db.Crime_La.count()"
   ]
  },
  {
   "cell_type": "code",
   "execution_count": 22,
   "metadata": {},
   "outputs": [],
   "source": [
    "# a= collection_count"
   ]
  },
  {
   "cell_type": "code",
   "execution_count": 23,
   "metadata": {},
   "outputs": [],
   "source": [
    "if collection_count != 0:\n",
    "    collection.drop()"
   ]
  },
  {
   "cell_type": "code",
   "execution_count": null,
   "metadata": {},
   "outputs": [],
   "source": []
  },
  {
   "cell_type": "code",
   "execution_count": 24,
   "metadata": {},
   "outputs": [
    {
     "ename": "AttributeError",
     "evalue": "'dict_values' object has no attribute 'insert_one'",
     "output_type": "error",
     "traceback": [
      "\u001b[0;31m---------------------------------------------------------------------------\u001b[0m",
      "\u001b[0;31mAttributeError\u001b[0m                            Traceback (most recent call last)",
      "\u001b[0;32m<ipython-input-24-2f6fdf65718e>\u001b[0m in \u001b[0;36m<module>\u001b[0;34m\u001b[0m\n\u001b[1;32m      1\u001b[0m \u001b[0;31m# Insert dictionary into MongoDB as a document\u001b[0m\u001b[0;34m\u001b[0m\u001b[0;34m\u001b[0m\u001b[0;34m\u001b[0m\u001b[0m\n\u001b[0;32m----> 2\u001b[0;31m \u001b[0mresult1\u001b[0m \u001b[0;34m=\u001b[0m \u001b[0mk\u001b[0m\u001b[0;34m.\u001b[0m\u001b[0minsert_one\u001b[0m\u001b[0;34m(\u001b[0m\u001b[0mCrime\u001b[0m\u001b[0;34m)\u001b[0m\u001b[0;34m\u001b[0m\u001b[0;34m\u001b[0m\u001b[0m\n\u001b[0m",
      "\u001b[0;31mAttributeError\u001b[0m: 'dict_values' object has no attribute 'insert_one'"
     ]
    }
   ],
   "source": [
    "# Insert dictionary into MongoDB as a document\n",
    "result1 = k.insert_one(Crime)"
   ]
  },
  {
   "cell_type": "code",
   "execution_count": null,
   "metadata": {},
   "outputs": [],
   "source": []
  },
  {
   "cell_type": "code",
   "execution_count": null,
   "metadata": {},
   "outputs": [],
   "source": []
  },
  {
   "cell_type": "code",
   "execution_count": null,
   "metadata": {},
   "outputs": [],
   "source": []
  },
  {
   "cell_type": "code",
   "execution_count": null,
   "metadata": {},
   "outputs": [],
   "source": []
  }
 ],
 "metadata": {
  "kernelspec": {
   "display_name": "Python 3.6.8 64-bit ('base': conda)",
   "language": "python",
   "name": "python36864bitbaseconda0c18ddd1855c4140b48797db2acf4577"
  },
  "language_info": {
   "codemirror_mode": {
    "name": "ipython",
    "version": 3
   },
   "file_extension": ".py",
   "mimetype": "text/x-python",
   "name": "python",
   "nbconvert_exporter": "python",
   "pygments_lexer": "ipython3",
   "version": "3.6.8"
  }
 },
 "nbformat": 4,
 "nbformat_minor": 4
}
